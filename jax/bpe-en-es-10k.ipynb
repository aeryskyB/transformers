{
 "cells": [
  {
   "cell_type": "markdown",
   "metadata": {},
   "source": [
    "This notebook was run on [kaggle](https://www.kaggle.com/)."
   ]
  },
  {
   "cell_type": "code",
   "execution_count": 1,
   "metadata": {
    "_cell_guid": "b1076dfc-b9ad-4769-8c92-a6c4dae69d19",
    "_uuid": "8f2839f25d086af736a60e9eeb907d3b93b6e0e5",
    "execution": {
     "iopub.execute_input": "2025-03-04T05:26:29.751843Z",
     "iopub.status.busy": "2025-03-04T05:26:29.751513Z",
     "iopub.status.idle": "2025-03-04T05:27:46.718531Z",
     "shell.execute_reply": "2025-03-04T05:27:46.717483Z",
     "shell.execute_reply.started": "2025-03-04T05:26:29.751816Z"
    },
    "trusted": true
   },
   "outputs": [
    {
     "name": "stdout",
     "output_type": "stream",
     "text": [
      "--2025-03-04 05:26:29--  https://www.statmt.org/wmt12/un.es-en.tgz\n",
      "Resolving www.statmt.org (www.statmt.org)... 129.215.32.28\n",
      "Connecting to www.statmt.org (www.statmt.org)|129.215.32.28|:443... connected.\n",
      "HTTP request sent, awaiting response... 200 OK\n",
      "Length: 1103180390 (1.0G) [application/x-gzip]\n",
      "Saving to: ‘un.es-en.tgz’\n",
      "\n",
      "un.es-en.tgz        100%[===================>]   1.03G  14.5MB/s    in 76s     \n",
      "\n",
      "2025-03-04 05:27:46 (13.9 MB/s) - ‘un.es-en.tgz’ saved [1103180390/1103180390]\n",
      "\n"
     ]
    }
   ],
   "source": [
    "!wget https://www.statmt.org/wmt12/un.es-en.tgz"
   ]
  },
  {
   "cell_type": "code",
   "execution_count": 2,
   "metadata": {
    "execution": {
     "iopub.execute_input": "2025-03-04T05:27:46.720496Z",
     "iopub.status.busy": "2025-03-04T05:27:46.720106Z",
     "iopub.status.idle": "2025-03-04T05:28:19.462889Z",
     "shell.execute_reply": "2025-03-04T05:28:19.461569Z",
     "shell.execute_reply.started": "2025-03-04T05:27:46.720458Z"
    },
    "trusted": true
   },
   "outputs": [
    {
     "name": "stdout",
     "output_type": "stream",
     "text": [
      "MultiUN4WMT12/README\n",
      "MultiUN4WMT12/undoc.2000.es-en.en\n",
      "MultiUN4WMT12/undoc.2000.es-en.es\n"
     ]
    }
   ],
   "source": [
    "!tar -xvzf un.es-en.tgz"
   ]
  },
  {
   "cell_type": "code",
   "execution_count": 3,
   "metadata": {
    "execution": {
     "iopub.execute_input": "2025-03-04T05:28:19.465723Z",
     "iopub.status.busy": "2025-03-04T05:28:19.465331Z",
     "iopub.status.idle": "2025-03-04T05:28:19.857512Z",
     "shell.execute_reply": "2025-03-04T05:28:19.856047Z",
     "shell.execute_reply.started": "2025-03-04T05:28:19.465673Z"
    },
    "trusted": true
   },
   "outputs": [],
   "source": [
    "!rm un.es-en.tgz"
   ]
  },
  {
   "cell_type": "code",
   "execution_count": 4,
   "metadata": {
    "execution": {
     "iopub.execute_input": "2025-03-04T05:28:19.860211Z",
     "iopub.status.busy": "2025-03-04T05:28:19.859748Z",
     "iopub.status.idle": "2025-03-04T05:28:19.873109Z",
     "shell.execute_reply": "2025-03-04T05:28:19.872079Z",
     "shell.execute_reply.started": "2025-03-04T05:28:19.860176Z"
    },
    "trusted": true
   },
   "outputs": [],
   "source": [
    "from typing import List\n",
    "from tqdm import tqdm\n",
    "import random\n",
    "import json"
   ]
  },
  {
   "cell_type": "code",
   "execution_count": 5,
   "metadata": {
    "execution": {
     "iopub.execute_input": "2025-03-04T05:28:19.874631Z",
     "iopub.status.busy": "2025-03-04T05:28:19.874260Z",
     "iopub.status.idle": "2025-03-04T05:28:21.626508Z",
     "shell.execute_reply": "2025-03-04T05:28:21.625103Z",
     "shell.execute_reply.started": "2025-03-04T05:28:19.874595Z"
    },
    "trusted": true
   },
   "outputs": [],
   "source": [
    "random.seed(7)"
   ]
  },
  {
   "cell_type": "code",
   "execution_count": 6,
   "metadata": {
    "execution": {
     "iopub.execute_input": "2025-03-04T05:28:21.628151Z",
     "iopub.status.busy": "2025-03-04T05:28:21.627738Z",
     "iopub.status.idle": "2025-03-04T05:28:23.510416Z",
     "shell.execute_reply": "2025-03-04T05:28:23.509416Z",
     "shell.execute_reply.started": "2025-03-04T05:28:21.628110Z"
    },
    "trusted": true
   },
   "outputs": [],
   "source": [
    "train_f = 5e-4"
   ]
  },
  {
   "cell_type": "code",
   "execution_count": 7,
   "metadata": {
    "execution": {
     "iopub.execute_input": "2025-03-04T05:28:23.511774Z",
     "iopub.status.busy": "2025-03-04T05:28:23.511421Z",
     "iopub.status.idle": "2025-03-04T05:28:37.652041Z",
     "shell.execute_reply": "2025-03-04T05:28:37.651308Z",
     "shell.execute_reply.started": "2025-03-04T05:28:23.511740Z"
    },
    "trusted": true
   },
   "outputs": [],
   "source": [
    "ens = []\n",
    "with open(\"/kaggle/working/MultiUN4WMT12/undoc.2000.es-en.en\", \"r\") as f:\n",
    "    while l := f.readline().strip().replace(\"\\xa0\", \" \"):\n",
    "        ens.append(l)"
   ]
  },
  {
   "cell_type": "code",
   "execution_count": 8,
   "metadata": {
    "execution": {
     "iopub.execute_input": "2025-03-04T05:28:37.655298Z",
     "iopub.status.busy": "2025-03-04T05:28:37.655020Z",
     "iopub.status.idle": "2025-03-04T05:28:37.991152Z",
     "shell.execute_reply": "2025-03-04T05:28:37.990145Z",
     "shell.execute_reply.started": "2025-03-04T05:28:37.655275Z"
    },
    "trusted": true
   },
   "outputs": [
    {
     "data": {
      "text/plain": [
       "'Property transferred to other missions'"
      ]
     },
     "execution_count": 8,
     "metadata": {},
     "output_type": "execute_result"
    }
   ],
   "source": [
    "en_last = ens[-1]\n",
    "en_last"
   ]
  },
  {
   "cell_type": "code",
   "execution_count": 9,
   "metadata": {
    "execution": {
     "iopub.execute_input": "2025-03-04T05:28:37.993465Z",
     "iopub.status.busy": "2025-03-04T05:28:37.993154Z",
     "iopub.status.idle": "2025-03-04T05:28:38.009691Z",
     "shell.execute_reply": "2025-03-04T05:28:38.008714Z",
     "shell.execute_reply.started": "2025-03-04T05:28:37.993438Z"
    },
    "trusted": true
   },
   "outputs": [
    {
     "data": {
      "text/plain": [
       "(5598, 11196913)"
      ]
     },
     "execution_count": 9,
     "metadata": {},
     "output_type": "execute_result"
    }
   ],
   "source": [
    "train_count = round(len(ens)*train_f)\n",
    "train_count, len(ens)"
   ]
  },
  {
   "cell_type": "code",
   "execution_count": 10,
   "metadata": {
    "execution": {
     "iopub.execute_input": "2025-03-04T05:28:38.011050Z",
     "iopub.status.busy": "2025-03-04T05:28:38.010709Z",
     "iopub.status.idle": "2025-03-04T05:28:38.028676Z",
     "shell.execute_reply": "2025-03-04T05:28:38.027639Z",
     "shell.execute_reply.started": "2025-03-04T05:28:38.011017Z"
    },
    "trusted": true
   },
   "outputs": [],
   "source": [
    "ens_train = random.choices(ens, k=train_count)"
   ]
  },
  {
   "cell_type": "code",
   "execution_count": 11,
   "metadata": {
    "execution": {
     "iopub.execute_input": "2025-03-04T05:28:38.030113Z",
     "iopub.status.busy": "2025-03-04T05:28:38.029812Z",
     "iopub.status.idle": "2025-03-04T05:28:38.688315Z",
     "shell.execute_reply": "2025-03-04T05:28:38.687249Z",
     "shell.execute_reply.started": "2025-03-04T05:28:38.030088Z"
    },
    "trusted": true
   },
   "outputs": [],
   "source": [
    "del ens"
   ]
  },
  {
   "cell_type": "code",
   "execution_count": 12,
   "metadata": {
    "execution": {
     "iopub.execute_input": "2025-03-04T05:28:38.689836Z",
     "iopub.status.busy": "2025-03-04T05:28:38.689523Z",
     "iopub.status.idle": "2025-03-04T05:28:50.746306Z",
     "shell.execute_reply": "2025-03-04T05:28:50.745279Z",
     "shell.execute_reply.started": "2025-03-04T05:28:38.689808Z"
    },
    "trusted": true
   },
   "outputs": [],
   "source": [
    "ess = []\n",
    "with open(\"/kaggle/working/MultiUN4WMT12/undoc.2000.es-en.es\", \"r\") as f:\n",
    "    while l := f.readline().strip().replace(\"\\xa0\", \" \"):\n",
    "        ess.append(l)"
   ]
  },
  {
   "cell_type": "code",
   "execution_count": 13,
   "metadata": {
    "execution": {
     "iopub.execute_input": "2025-03-04T05:28:50.747686Z",
     "iopub.status.busy": "2025-03-04T05:28:50.747356Z",
     "iopub.status.idle": "2025-03-04T05:28:50.753838Z",
     "shell.execute_reply": "2025-03-04T05:28:50.752929Z",
     "shell.execute_reply.started": "2025-03-04T05:28:50.747653Z"
    },
    "trusted": true
   },
   "outputs": [
    {
     "data": {
      "text/plain": [
       "'Bienes transferidos a otras misiones'"
      ]
     },
     "execution_count": 13,
     "metadata": {},
     "output_type": "execute_result"
    }
   ],
   "source": [
    "es_last = ess[-1]\n",
    "es_last"
   ]
  },
  {
   "cell_type": "code",
   "execution_count": 14,
   "metadata": {
    "execution": {
     "iopub.execute_input": "2025-03-04T05:28:50.754919Z",
     "iopub.status.busy": "2025-03-04T05:28:50.754660Z",
     "iopub.status.idle": "2025-03-04T05:28:50.774285Z",
     "shell.execute_reply": "2025-03-04T05:28:50.773169Z",
     "shell.execute_reply.started": "2025-03-04T05:28:50.754897Z"
    },
    "trusted": true
   },
   "outputs": [],
   "source": [
    "ess_train = random.choices(ess, k=train_count)"
   ]
  },
  {
   "cell_type": "code",
   "execution_count": 15,
   "metadata": {
    "execution": {
     "iopub.execute_input": "2025-03-04T05:28:50.775411Z",
     "iopub.status.busy": "2025-03-04T05:28:50.775142Z",
     "iopub.status.idle": "2025-03-04T05:28:51.468660Z",
     "shell.execute_reply": "2025-03-04T05:28:51.467435Z",
     "shell.execute_reply.started": "2025-03-04T05:28:50.775389Z"
    },
    "trusted": true
   },
   "outputs": [],
   "source": [
    "del ess"
   ]
  },
  {
   "cell_type": "code",
   "execution_count": 16,
   "metadata": {
    "execution": {
     "iopub.execute_input": "2025-03-04T05:28:51.470402Z",
     "iopub.status.busy": "2025-03-04T05:28:51.470107Z",
     "iopub.status.idle": "2025-03-04T05:28:51.479419Z",
     "shell.execute_reply": "2025-03-04T05:28:51.478531Z",
     "shell.execute_reply.started": "2025-03-04T05:28:51.470369Z"
    },
    "trusted": true
   },
   "outputs": [],
   "source": [
    "def preprocess_sentence(s: str, bos: str = \"<bos>\", eos: str = \"<eos>\") -> List[str]:\n",
    "    return [bos] + list(s.replace(\"  \", \" \")) + [eos]"
   ]
  },
  {
   "cell_type": "code",
   "execution_count": 17,
   "metadata": {
    "_kg_hide-output": true,
    "execution": {
     "iopub.execute_input": "2025-03-04T05:28:51.480742Z",
     "iopub.status.busy": "2025-03-04T05:28:51.480401Z",
     "iopub.status.idle": "2025-03-04T05:28:51.495308Z",
     "shell.execute_reply": "2025-03-04T05:28:51.494337Z",
     "shell.execute_reply.started": "2025-03-04T05:28:51.480709Z"
    },
    "scrolled": true,
    "trusted": true
   },
   "outputs": [],
   "source": [
    "# preprocess_sentence(en_last), preprocess_sentence(es_last)"
   ]
  },
  {
   "cell_type": "code",
   "execution_count": 18,
   "metadata": {
    "execution": {
     "iopub.execute_input": "2025-03-04T05:28:51.496513Z",
     "iopub.status.busy": "2025-03-04T05:28:51.496270Z",
     "iopub.status.idle": "2025-03-04T05:28:51.513742Z",
     "shell.execute_reply": "2025-03-04T05:28:51.512785Z",
     "shell.execute_reply.started": "2025-03-04T05:28:51.496491Z"
    },
    "trusted": true
   },
   "outputs": [
    {
     "data": {
      "text/plain": [
       "(5598, 5598)"
      ]
     },
     "execution_count": 18,
     "metadata": {},
     "output_type": "execute_result"
    }
   ],
   "source": [
    "len(ens_train), len(ess_train)"
   ]
  },
  {
   "cell_type": "code",
   "execution_count": 19,
   "metadata": {
    "execution": {
     "iopub.execute_input": "2025-03-04T05:28:51.515023Z",
     "iopub.status.busy": "2025-03-04T05:28:51.514741Z",
     "iopub.status.idle": "2025-03-04T05:28:51.530846Z",
     "shell.execute_reply": "2025-03-04T05:28:51.529809Z",
     "shell.execute_reply.started": "2025-03-04T05:28:51.514965Z"
    },
    "trusted": true
   },
   "outputs": [],
   "source": [
    "dataset = ens_train + ess_train"
   ]
  },
  {
   "cell_type": "code",
   "execution_count": 20,
   "metadata": {
    "execution": {
     "iopub.execute_input": "2025-03-04T05:28:51.532197Z",
     "iopub.status.busy": "2025-03-04T05:28:51.531846Z",
     "iopub.status.idle": "2025-03-04T05:28:51.548071Z",
     "shell.execute_reply": "2025-03-04T05:28:51.547223Z",
     "shell.execute_reply.started": "2025-03-04T05:28:51.532155Z"
    },
    "trusted": true
   },
   "outputs": [],
   "source": [
    "del ens_train"
   ]
  },
  {
   "cell_type": "code",
   "execution_count": 21,
   "metadata": {
    "execution": {
     "iopub.execute_input": "2025-03-04T05:28:51.549324Z",
     "iopub.status.busy": "2025-03-04T05:28:51.549074Z",
     "iopub.status.idle": "2025-03-04T05:28:51.567965Z",
     "shell.execute_reply": "2025-03-04T05:28:51.566890Z",
     "shell.execute_reply.started": "2025-03-04T05:28:51.549303Z"
    },
    "trusted": true
   },
   "outputs": [],
   "source": [
    "del ess_train"
   ]
  },
  {
   "cell_type": "code",
   "execution_count": 22,
   "metadata": {
    "execution": {
     "iopub.execute_input": "2025-03-04T05:28:51.569585Z",
     "iopub.status.busy": "2025-03-04T05:28:51.569219Z",
     "iopub.status.idle": "2025-03-04T05:28:51.586896Z",
     "shell.execute_reply": "2025-03-04T05:28:51.585895Z",
     "shell.execute_reply.started": "2025-03-04T05:28:51.569551Z"
    },
    "trusted": true
   },
   "outputs": [
    {
     "data": {
      "text/plain": [
       "(11196,\n",
       " 'The Prisons Bill prohibits the use of solitary confinement except in the case of extremely violent offenders.',\n",
       " 'La evidencia de estas dificultades ha suscitado también la necesidad de trabajar en el futuro en el desarrollo de un sistema de información como el que se ha aludido en los párrafos 128 a 132.')"
      ]
     },
     "execution_count": 22,
     "metadata": {},
     "output_type": "execute_result"
    }
   ],
   "source": [
    "len(dataset), dataset[0], dataset[-1]"
   ]
  },
  {
   "cell_type": "code",
   "execution_count": 23,
   "metadata": {
    "execution": {
     "iopub.execute_input": "2025-03-04T05:28:51.591094Z",
     "iopub.status.busy": "2025-03-04T05:28:51.590799Z",
     "iopub.status.idle": "2025-03-04T05:28:51.604463Z",
     "shell.execute_reply": "2025-03-04T05:28:51.603476Z",
     "shell.execute_reply.started": "2025-03-04T05:28:51.591070Z"
    },
    "trusted": true
   },
   "outputs": [],
   "source": [
    "def preprocess_dataset(dataset: List[str]):\n",
    "    preprocessed_dataset = []\n",
    "    for s in dataset:\n",
    "        preprocessed_dataset.append(preprocess_sentence(s))\n",
    "    return preprocessed_dataset"
   ]
  },
  {
   "cell_type": "code",
   "execution_count": 24,
   "metadata": {
    "execution": {
     "iopub.execute_input": "2025-03-04T05:28:51.606132Z",
     "iopub.status.busy": "2025-03-04T05:28:51.605746Z",
     "iopub.status.idle": "2025-03-04T05:28:51.762730Z",
     "shell.execute_reply": "2025-03-04T05:28:51.761852Z",
     "shell.execute_reply.started": "2025-03-04T05:28:51.606096Z"
    },
    "trusted": true
   },
   "outputs": [],
   "source": [
    "preprocessed_dataset = preprocess_dataset(dataset)"
   ]
  },
  {
   "cell_type": "code",
   "execution_count": 25,
   "metadata": {
    "execution": {
     "iopub.execute_input": "2025-03-04T05:28:51.763894Z",
     "iopub.status.busy": "2025-03-04T05:28:51.763558Z",
     "iopub.status.idle": "2025-03-04T05:28:51.772602Z",
     "shell.execute_reply": "2025-03-04T05:28:51.771415Z",
     "shell.execute_reply.started": "2025-03-04T05:28:51.763862Z"
    },
    "scrolled": true,
    "trusted": true
   },
   "outputs": [],
   "source": [
    "def bpe_train(dataset: List[str], num_target_rules: int = 32_000):\n",
    "    vocab = set()\n",
    "    rules = []\n",
    "    \n",
    "    for d in tqdm(dataset, desc=\"create initial vocab\"):\n",
    "        vocab = vocab.union(set(d))\n",
    "    \n",
    "    for _ in tqdm(range(num_target_rules), desc=\"train\"):\n",
    "        bigram_counter = {}\n",
    "        for d in dataset:\n",
    "            # print(d)\n",
    "            for j in range(len(d)-1):\n",
    "                unite = tuple(d[j:j+2])\n",
    "                if unite in bigram_counter:\n",
    "                    bigram_counter[unite] += 1\n",
    "                else:\n",
    "                    bigram_counter[unite] = 1\n",
    "\n",
    "        mx_cnt = 0\n",
    "        target = ()\n",
    "        for unite, cnt in bigram_counter.items():\n",
    "            if cnt > mx_cnt:\n",
    "                mx_cnt = cnt\n",
    "                target = unite\n",
    "        # print(target_lst)\n",
    "\n",
    "        vocab.add(\"\".join(target))\n",
    "        rules.append(target)\n",
    "\n",
    "        # y = 0\n",
    "        for i in range(len(dataset)):\n",
    "            while True:\n",
    "                d = dataset[i]\n",
    "                left = -1\n",
    "                for j in range(len(d)-1):\n",
    "                    if d[j:j+2] == list(target):\n",
    "                        left = j\n",
    "                        break\n",
    "                if left >= 0:\n",
    "                    dataset[i] = d[:left] + [''.join(d[left:left+2])] + d[left+2:]\n",
    "                else:\n",
    "                    break\n",
    "            # y += len(dataset[i])\n",
    "        \n",
    "    return vocab, rules"
   ]
  },
  {
   "cell_type": "code",
   "execution_count": 26,
   "metadata": {
    "execution": {
     "iopub.execute_input": "2025-03-04T05:28:51.774202Z",
     "iopub.status.busy": "2025-03-04T05:28:51.773798Z",
     "iopub.status.idle": "2025-03-04T07:22:57.911768Z",
     "shell.execute_reply": "2025-03-04T07:22:57.910459Z",
     "shell.execute_reply.started": "2025-03-04T05:28:51.774163Z"
    },
    "trusted": true
   },
   "outputs": [
    {
     "name": "stderr",
     "output_type": "stream",
     "text": [
      "create initial vocab: 100%|██████████| 11196/11196 [00:00<00:00, 152519.65it/s]\n",
      "train: 100%|██████████| 10000/10000 [1:54:06<00:00,  1.46it/s] \n"
     ]
    }
   ],
   "source": [
    "vocab, rules = bpe_train(preprocessed_dataset, num_target_rules=10_000)"
   ]
  },
  {
   "cell_type": "code",
   "execution_count": 27,
   "metadata": {
    "execution": {
     "iopub.execute_input": "2025-03-04T07:23:16.056380Z",
     "iopub.status.busy": "2025-03-04T07:23:16.055867Z",
     "iopub.status.idle": "2025-03-04T07:23:16.063948Z",
     "shell.execute_reply": "2025-03-04T07:23:16.062918Z",
     "shell.execute_reply.started": "2025-03-04T07:23:16.056340Z"
    },
    "trusted": true
   },
   "outputs": [
    {
     "data": {
      "text/plain": [
       "[('e', ' '),\n",
       " ('s', ' '),\n",
       " ('n', ' '),\n",
       " ('a', ' '),\n",
       " ('o', ' '),\n",
       " ('e', 'r'),\n",
       " ('e', 'n'),\n",
       " ('o', 'n'),\n",
       " ('t', 'i'),\n",
       " ('c', 'i'),\n",
       " ('l', ' '),\n",
       " ('t', 'h'),\n",
       " ('r', 'e'),\n",
       " ('d', 'e '),\n",
       " ('a', 'r'),\n",
       " (',', ' '),\n",
       " ('a', 'n'),\n",
       " ('d', ' '),\n",
       " ('i', 'n'),\n",
       " ('o', 'r')]"
      ]
     },
     "execution_count": 27,
     "metadata": {},
     "output_type": "execute_result"
    }
   ],
   "source": [
    "rules[:20]"
   ]
  },
  {
   "cell_type": "code",
   "execution_count": 28,
   "metadata": {
    "execution": {
     "iopub.execute_input": "2025-03-04T07:23:24.949482Z",
     "iopub.status.busy": "2025-03-04T07:23:24.949132Z",
     "iopub.status.idle": "2025-03-04T07:23:24.955751Z",
     "shell.execute_reply": "2025-03-04T07:23:24.954655Z",
     "shell.execute_reply.started": "2025-03-04T07:23:24.949453Z"
    },
    "trusted": true
   },
   "outputs": [
    {
     "data": {
      "text/plain": [
       "(10000, 10146)"
      ]
     },
     "execution_count": 28,
     "metadata": {},
     "output_type": "execute_result"
    }
   ],
   "source": [
    "len(rules), len(vocab)"
   ]
  },
  {
   "cell_type": "code",
   "execution_count": 29,
   "metadata": {
    "execution": {
     "iopub.execute_input": "2025-03-04T07:23:33.253312Z",
     "iopub.status.busy": "2025-03-04T07:23:33.252964Z",
     "iopub.status.idle": "2025-03-04T07:23:33.261815Z",
     "shell.execute_reply": "2025-03-04T07:23:33.260613Z",
     "shell.execute_reply.started": "2025-03-04T07:23:33.253286Z"
    },
    "trusted": true
   },
   "outputs": [],
   "source": [
    "vocab_map = {e : i for i, e in enumerate(vocab)}"
   ]
  },
  {
   "cell_type": "code",
   "execution_count": 30,
   "metadata": {
    "execution": {
     "iopub.execute_input": "2025-03-04T07:23:35.168844Z",
     "iopub.status.busy": "2025-03-04T07:23:35.168508Z",
     "iopub.status.idle": "2025-03-04T07:23:35.189782Z",
     "shell.execute_reply": "2025-03-04T07:23:35.188523Z",
     "shell.execute_reply.started": "2025-03-04T07:23:35.168818Z"
    },
    "trusted": true
   },
   "outputs": [],
   "source": [
    "with open(\"bpe-en-es-10k-vocab.json\", \"w\") as f:\n",
    "    json.dump(vocab_map, f)"
   ]
  },
  {
   "cell_type": "code",
   "execution_count": 31,
   "metadata": {
    "execution": {
     "iopub.execute_input": "2025-03-04T07:23:40.087788Z",
     "iopub.status.busy": "2025-03-04T07:23:40.087416Z",
     "iopub.status.idle": "2025-03-04T07:23:40.105583Z",
     "shell.execute_reply": "2025-03-04T07:23:40.104421Z",
     "shell.execute_reply.started": "2025-03-04T07:23:40.087756Z"
    },
    "trusted": true
   },
   "outputs": [],
   "source": [
    "with open(\"bpe-en-es-10k-rules.txt\", \"w\") as f:\n",
    "    for rule in rules:\n",
    "        f.write(f\"{vocab_map[rule[0]]} {vocab_map[rule[1]]}\\n\")"
   ]
  },
  {
   "cell_type": "code",
   "execution_count": null,
   "metadata": {
    "trusted": true
   },
   "outputs": [],
   "source": [
    "rules[:10]"
   ]
  },
  {
   "cell_type": "code",
   "execution_count": 32,
   "metadata": {
    "execution": {
     "iopub.execute_input": "2025-03-04T07:27:48.004521Z",
     "iopub.status.busy": "2025-03-04T07:27:48.003886Z",
     "iopub.status.idle": "2025-03-04T07:27:48.012550Z",
     "shell.execute_reply": "2025-03-04T07:27:48.011281Z",
     "shell.execute_reply.started": "2025-03-04T07:27:48.004478Z"
    },
    "trusted": true
   },
   "outputs": [
    {
     "data": {
      "text/plain": [
       "[('<bos>L', 'os '),\n",
       " ('al', 'es, '),\n",
       " ('el', 'y '),\n",
       " ('particul', 'ar '),\n",
       " ('200', '1'),\n",
       " ('ed ', 'by '),\n",
       " ('ad', 'ministr'),\n",
       " ('Or', 'ganiz'),\n",
       " ('us', 't '),\n",
       " ('e ', 'of the ')]"
      ]
     },
     "execution_count": 32,
     "metadata": {},
     "output_type": "execute_result"
    }
   ],
   "source": [
    "rules[1000:1010]"
   ]
  },
  {
   "cell_type": "code",
   "execution_count": 36,
   "metadata": {
    "execution": {
     "iopub.execute_input": "2025-03-04T07:28:51.757416Z",
     "iopub.status.busy": "2025-03-04T07:28:51.757067Z",
     "iopub.status.idle": "2025-03-04T07:28:51.764035Z",
     "shell.execute_reply": "2025-03-04T07:28:51.762617Z",
     "shell.execute_reply.started": "2025-03-04T07:28:51.757388Z"
    },
    "trusted": true
   },
   "outputs": [
    {
     "data": {
      "text/plain": [
       "[['<bos>The ',\n",
       "  'Pri',\n",
       "  'sons ',\n",
       "  'B',\n",
       "  'ill ',\n",
       "  'prohib',\n",
       "  'its ',\n",
       "  'the ',\n",
       "  'use of ',\n",
       "  'sol',\n",
       "  'it',\n",
       "  'ary ',\n",
       "  'con',\n",
       "  'fin',\n",
       "  'ement ',\n",
       "  'excep',\n",
       "  't ',\n",
       "  'in the ',\n",
       "  'case of ',\n",
       "  'extrem',\n",
       "  'ely ',\n",
       "  'viol',\n",
       "  'ent ',\n",
       "  'off',\n",
       "  'ender',\n",
       "  's.<eos>']]"
      ]
     },
     "execution_count": 36,
     "metadata": {},
     "output_type": "execute_result"
    }
   ],
   "source": [
    "preprocessed_dataset[:1]"
   ]
  },
  {
   "cell_type": "code",
   "execution_count": 40,
   "metadata": {
    "execution": {
     "iopub.execute_input": "2025-03-04T07:37:51.099637Z",
     "iopub.status.busy": "2025-03-04T07:37:51.099139Z",
     "iopub.status.idle": "2025-03-04T07:37:51.107277Z",
     "shell.execute_reply": "2025-03-04T07:37:51.105897Z",
     "shell.execute_reply.started": "2025-03-04T07:37:51.099597Z"
    },
    "trusted": true
   },
   "outputs": [],
   "source": [
    "def apply_bpe_rules(dataset, rules, preprocessed=False):\n",
    "    if not preprocessed:\n",
    "        p_dataset = preprocess_dataset(dataset)\n",
    "    else:\n",
    "        p_dataset = dataset.copy()\n",
    "\n",
    "    for rule in rules:\n",
    "        for i in range(len(p_dataset)):\n",
    "            while True:\n",
    "                d = p_dataset[i]\n",
    "                left = -1\n",
    "                for j in range(len(d)-1):\n",
    "                    if d[j:j+2] == list(rule):\n",
    "                        left = j\n",
    "                        break\n",
    "                if left >= 0:\n",
    "                    p_dataset[i] = d[:left] + [''.join(d[left:left+2])] + d[left+2:]\n",
    "                else:\n",
    "                    break\n",
    "    return p_dataset"
   ]
  },
  {
   "cell_type": "code",
   "execution_count": 41,
   "metadata": {
    "execution": {
     "iopub.execute_input": "2025-03-04T07:37:52.814491Z",
     "iopub.status.busy": "2025-03-04T07:37:52.814081Z",
     "iopub.status.idle": "2025-03-04T07:37:52.943658Z",
     "shell.execute_reply": "2025-03-04T07:37:52.942511Z",
     "shell.execute_reply.started": "2025-03-04T07:37:52.814440Z"
    },
    "trusted": true
   },
   "outputs": [],
   "source": [
    "test_dataset = [\n",
    "    \"Hello, where are you?\",\n",
    "    \"Is this making any kind of sense?\",\n",
    "    \"This is an imaginary situation.\",\n",
    "    \"It is such a shame!\"\n",
    "]\n",
    "\n",
    "pretokenized_test_dataset = apply_bpe_rules(test_dataset, rules)"
   ]
  },
  {
   "cell_type": "code",
   "execution_count": 42,
   "metadata": {
    "execution": {
     "iopub.execute_input": "2025-03-04T07:38:05.832734Z",
     "iopub.status.busy": "2025-03-04T07:38:05.832357Z",
     "iopub.status.idle": "2025-03-04T07:38:05.840134Z",
     "shell.execute_reply": "2025-03-04T07:38:05.839128Z",
     "shell.execute_reply.started": "2025-03-04T07:38:05.832705Z"
    },
    "trusted": true
   },
   "outputs": [
    {
     "data": {
      "text/plain": [
       "[['<bos>H', 'ello, ', 'where ', 'are ', 'you', '?<eos>'],\n",
       " ['<bos>I',\n",
       "  's ',\n",
       "  'this ',\n",
       "  'making ',\n",
       "  'any ',\n",
       "  'kind ',\n",
       "  'of ',\n",
       "  'sen',\n",
       "  'se',\n",
       "  '?<eos>'],\n",
       " ['<bos>This ', 'is ', 'an ', 'im', 'ag', 'in', 'ary ', 'situ', 'ation.<eos>'],\n",
       " ['<bos>It is ', 'such a ', 'sh', 'ame', '!', '<eos>']]"
      ]
     },
     "execution_count": 42,
     "metadata": {},
     "output_type": "execute_result"
    }
   ],
   "source": [
    "pretokenized_test_dataset"
   ]
  },
  {
   "cell_type": "code",
   "execution_count": 46,
   "metadata": {
    "execution": {
     "iopub.execute_input": "2025-03-04T07:44:04.806539Z",
     "iopub.status.busy": "2025-03-04T07:44:04.806121Z",
     "iopub.status.idle": "2025-03-04T07:44:04.811719Z",
     "shell.execute_reply": "2025-03-04T07:44:04.810468Z",
     "shell.execute_reply.started": "2025-03-04T07:44:04.806505Z"
    },
    "trusted": true
   },
   "outputs": [],
   "source": [
    "def tokenize_dataset(pre_tokenized_dataset, vocab):\n",
    "    tokenized_dataset = []\n",
    "    for d in pre_tokenized_dataset:\n",
    "        tokenized_dataset.append(list(map(lambda tok: vocab[tok], d)))\n",
    "    return tokenized_dataset"
   ]
  },
  {
   "cell_type": "code",
   "execution_count": 49,
   "metadata": {
    "execution": {
     "iopub.execute_input": "2025-03-04T07:44:36.376048Z",
     "iopub.status.busy": "2025-03-04T07:44:36.375684Z",
     "iopub.status.idle": "2025-03-04T07:44:36.380759Z",
     "shell.execute_reply": "2025-03-04T07:44:36.379400Z",
     "shell.execute_reply.started": "2025-03-04T07:44:36.376019Z"
    },
    "trusted": true
   },
   "outputs": [],
   "source": [
    "tokenized_test_dataset = tokenize_dataset(pretokenized_test_dataset, vocab_map)"
   ]
  },
  {
   "cell_type": "code",
   "execution_count": 50,
   "metadata": {
    "execution": {
     "iopub.execute_input": "2025-03-04T07:44:37.792035Z",
     "iopub.status.busy": "2025-03-04T07:44:37.791666Z",
     "iopub.status.idle": "2025-03-04T07:44:37.798250Z",
     "shell.execute_reply": "2025-03-04T07:44:37.797458Z",
     "shell.execute_reply.started": "2025-03-04T07:44:37.792004Z"
    },
    "trusted": true
   },
   "outputs": [
    {
     "data": {
      "text/plain": [
       "[[5454, 9591, 1728, 7392, 3576, 1837],\n",
       " [4574, 2886, 8910, 4509, 6015, 7776, 9384, 8519, 9397, 1837],\n",
       " [3655, 3224, 4806, 5785, 5439, 4973, 2234, 2577, 8097],\n",
       " [8233, 9158, 2761, 4421, 418, 2992]]"
      ]
     },
     "execution_count": 50,
     "metadata": {},
     "output_type": "execute_result"
    }
   ],
   "source": [
    "tokenized_test_dataset"
   ]
  },
  {
   "cell_type": "code",
   "execution_count": null,
   "metadata": {
    "trusted": true
   },
   "outputs": [],
   "source": []
  }
 ],
 "metadata": {
  "kaggle": {
   "accelerator": "none",
   "dataSources": [
    {
     "datasetId": 6785809,
     "sourceId": 10915748,
     "sourceType": "datasetVersion"
    }
   ],
   "dockerImageVersionId": 30918,
   "isGpuEnabled": false,
   "isInternetEnabled": true,
   "language": "python",
   "sourceType": "notebook"
  },
  "kernelspec": {
   "display_name": "fai",
   "language": "python",
   "name": "python3"
  },
  "language_info": {
   "codemirror_mode": {
    "name": "ipython",
    "version": 3
   },
   "file_extension": ".py",
   "mimetype": "text/x-python",
   "name": "python",
   "nbconvert_exporter": "python",
   "pygments_lexer": "ipython3",
   "version": "3.11.8"
  }
 },
 "nbformat": 4,
 "nbformat_minor": 4
}
