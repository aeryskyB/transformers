{
 "cells": [
  {
   "cell_type": "markdown",
   "metadata": {},
   "source": [
    "This notebook was run on [kaggle](https://www.kaggle.com/)."
   ]
  },
  {
   "cell_type": "code",
   "execution_count": 1,
   "metadata": {
    "_cell_guid": "b1076dfc-b9ad-4769-8c92-a6c4dae69d19",
    "_uuid": "8f2839f25d086af736a60e9eeb907d3b93b6e0e5",
    "execution": {
     "iopub.execute_input": "2025-03-04T19:00:08.614903Z",
     "iopub.status.busy": "2025-03-04T19:00:08.614570Z",
     "iopub.status.idle": "2025-03-04T19:00:18.440199Z",
     "shell.execute_reply": "2025-03-04T19:00:18.439131Z",
     "shell.execute_reply.started": "2025-03-04T19:00:08.614876Z"
    },
    "trusted": true
   },
   "outputs": [
    {
     "name": "stdout",
     "output_type": "stream",
     "text": [
      "--2025-03-04 19:00:08--  https://www.statmt.org/wmt12/un.es-en.tgz\n",
      "Resolving www.statmt.org (www.statmt.org)... 129.215.32.28\n",
      "Connecting to www.statmt.org (www.statmt.org)|129.215.32.28|:443... connected.\n",
      "HTTP request sent, awaiting response... 200 OK\n",
      "Length: 1103180390 (1.0G) [application/x-gzip]\n",
      "Saving to: ‘un.es-en.tgz’\n",
      "\n",
      "un.es-en.tgz        100%[===================>]   1.03G   112MB/s    in 9.5s    \n",
      "\n",
      "2025-03-04 19:00:18 (110 MB/s) - ‘un.es-en.tgz’ saved [1103180390/1103180390]\n",
      "\n"
     ]
    }
   ],
   "source": [
    "!wget https://www.statmt.org/wmt12/un.es-en.tgz"
   ]
  },
  {
   "cell_type": "code",
   "execution_count": 2,
   "metadata": {
    "execution": {
     "iopub.execute_input": "2025-03-04T19:00:18.441671Z",
     "iopub.status.busy": "2025-03-04T19:00:18.441424Z",
     "iopub.status.idle": "2025-03-04T19:00:42.946427Z",
     "shell.execute_reply": "2025-03-04T19:00:42.945447Z",
     "shell.execute_reply.started": "2025-03-04T19:00:18.441650Z"
    },
    "trusted": true
   },
   "outputs": [
    {
     "name": "stdout",
     "output_type": "stream",
     "text": [
      "MultiUN4WMT12/README\n",
      "MultiUN4WMT12/undoc.2000.es-en.en\n",
      "MultiUN4WMT12/undoc.2000.es-en.es\n"
     ]
    }
   ],
   "source": [
    "!tar -xvzf un.es-en.tgz"
   ]
  },
  {
   "cell_type": "code",
   "execution_count": 3,
   "metadata": {
    "execution": {
     "iopub.execute_input": "2025-03-04T19:00:42.948034Z",
     "iopub.status.busy": "2025-03-04T19:00:42.947743Z",
     "iopub.status.idle": "2025-03-04T19:00:43.344488Z",
     "shell.execute_reply": "2025-03-04T19:00:43.343338Z",
     "shell.execute_reply.started": "2025-03-04T19:00:42.948011Z"
    },
    "trusted": true
   },
   "outputs": [],
   "source": [
    "!rm un.es-en.tgz"
   ]
  },
  {
   "cell_type": "code",
   "execution_count": 4,
   "metadata": {
    "execution": {
     "iopub.execute_input": "2025-03-04T19:00:43.346081Z",
     "iopub.status.busy": "2025-03-04T19:00:43.345808Z",
     "iopub.status.idle": "2025-03-04T19:00:44.128209Z",
     "shell.execute_reply": "2025-03-04T19:00:44.127374Z",
     "shell.execute_reply.started": "2025-03-04T19:00:43.346059Z"
    },
    "trusted": true
   },
   "outputs": [],
   "source": [
    "from typing import List\n",
    "from tqdm import tqdm\n",
    "import random\n",
    "import json"
   ]
  },
  {
   "cell_type": "code",
   "execution_count": 5,
   "metadata": {
    "execution": {
     "iopub.execute_input": "2025-03-04T19:00:44.129202Z",
     "iopub.status.busy": "2025-03-04T19:00:44.128995Z",
     "iopub.status.idle": "2025-03-04T19:00:44.774393Z",
     "shell.execute_reply": "2025-03-04T19:00:44.773072Z",
     "shell.execute_reply.started": "2025-03-04T19:00:44.129185Z"
    },
    "trusted": true
   },
   "outputs": [],
   "source": [
    "random.seed(7)"
   ]
  },
  {
   "cell_type": "code",
   "execution_count": 6,
   "metadata": {
    "execution": {
     "iopub.execute_input": "2025-03-04T19:00:44.775590Z",
     "iopub.status.busy": "2025-03-04T19:00:44.775354Z",
     "iopub.status.idle": "2025-03-04T19:00:44.793122Z",
     "shell.execute_reply": "2025-03-04T19:00:44.792242Z",
     "shell.execute_reply.started": "2025-03-04T19:00:44.775569Z"
    },
    "trusted": true
   },
   "outputs": [],
   "source": [
    "train_f = 5e-4"
   ]
  },
  {
   "cell_type": "code",
   "execution_count": 7,
   "metadata": {
    "execution": {
     "iopub.execute_input": "2025-03-04T19:00:44.794432Z",
     "iopub.status.busy": "2025-03-04T19:00:44.794168Z",
     "iopub.status.idle": "2025-03-04T19:00:52.339050Z",
     "shell.execute_reply": "2025-03-04T19:00:52.338050Z",
     "shell.execute_reply.started": "2025-03-04T19:00:44.794409Z"
    },
    "trusted": true
   },
   "outputs": [],
   "source": [
    "ens = []\n",
    "with open(\"/kaggle/working/MultiUN4WMT12/undoc.2000.es-en.en\", \"r\") as f:\n",
    "    while l := f.readline().strip().replace(\"\\xa0\", \" \"):\n",
    "        ens.append(l)"
   ]
  },
  {
   "cell_type": "code",
   "execution_count": 8,
   "metadata": {
    "execution": {
     "iopub.execute_input": "2025-03-04T19:00:52.342028Z",
     "iopub.status.busy": "2025-03-04T19:00:52.341739Z",
     "iopub.status.idle": "2025-03-04T19:00:52.585161Z",
     "shell.execute_reply": "2025-03-04T19:00:52.584266Z",
     "shell.execute_reply.started": "2025-03-04T19:00:52.341998Z"
    },
    "trusted": true
   },
   "outputs": [
    {
     "data": {
      "text/plain": [
       "'Property transferred to other missions'"
      ]
     },
     "execution_count": 8,
     "metadata": {},
     "output_type": "execute_result"
    }
   ],
   "source": [
    "en_last = ens[-1]\n",
    "en_last"
   ]
  },
  {
   "cell_type": "code",
   "execution_count": 9,
   "metadata": {
    "execution": {
     "iopub.execute_input": "2025-03-04T19:00:52.587038Z",
     "iopub.status.busy": "2025-03-04T19:00:52.586744Z",
     "iopub.status.idle": "2025-03-04T19:00:53.475686Z",
     "shell.execute_reply": "2025-03-04T19:00:53.474673Z",
     "shell.execute_reply.started": "2025-03-04T19:00:52.587007Z"
    },
    "trusted": true
   },
   "outputs": [
    {
     "data": {
      "text/plain": [
       "(5598, 11196913)"
      ]
     },
     "execution_count": 9,
     "metadata": {},
     "output_type": "execute_result"
    }
   ],
   "source": [
    "train_count = round(len(ens)*train_f)\n",
    "train_count, len(ens)"
   ]
  },
  {
   "cell_type": "code",
   "execution_count": 10,
   "metadata": {
    "execution": {
     "iopub.execute_input": "2025-03-04T19:00:53.477153Z",
     "iopub.status.busy": "2025-03-04T19:00:53.476826Z",
     "iopub.status.idle": "2025-03-04T19:00:53.497165Z",
     "shell.execute_reply": "2025-03-04T19:00:53.495757Z",
     "shell.execute_reply.started": "2025-03-04T19:00:53.477124Z"
    },
    "trusted": true
   },
   "outputs": [],
   "source": [
    "ens_train = random.choices(ens, k=train_count)"
   ]
  },
  {
   "cell_type": "code",
   "execution_count": 11,
   "metadata": {
    "execution": {
     "iopub.execute_input": "2025-03-04T19:00:53.498602Z",
     "iopub.status.busy": "2025-03-04T19:00:53.498189Z",
     "iopub.status.idle": "2025-03-04T19:00:54.076732Z",
     "shell.execute_reply": "2025-03-04T19:00:54.075654Z",
     "shell.execute_reply.started": "2025-03-04T19:00:53.498472Z"
    },
    "trusted": true
   },
   "outputs": [],
   "source": [
    "del ens"
   ]
  },
  {
   "cell_type": "code",
   "execution_count": 12,
   "metadata": {
    "execution": {
     "iopub.execute_input": "2025-03-04T19:00:54.078365Z",
     "iopub.status.busy": "2025-03-04T19:00:54.078074Z",
     "iopub.status.idle": "2025-03-04T19:01:09.532720Z",
     "shell.execute_reply": "2025-03-04T19:01:09.532049Z",
     "shell.execute_reply.started": "2025-03-04T19:00:54.078342Z"
    },
    "trusted": true
   },
   "outputs": [],
   "source": [
    "ess = []\n",
    "with open(\"/kaggle/working/MultiUN4WMT12/undoc.2000.es-en.es\", \"r\") as f:\n",
    "    while l := f.readline().encode().decode('utf-8').strip().replace(\"\\xa0\", \" \"):\n",
    "        ess.append(l)"
   ]
  },
  {
   "cell_type": "code",
   "execution_count": 13,
   "metadata": {
    "execution": {
     "iopub.execute_input": "2025-03-04T19:01:09.533648Z",
     "iopub.status.busy": "2025-03-04T19:01:09.533394Z",
     "iopub.status.idle": "2025-03-04T19:01:09.539076Z",
     "shell.execute_reply": "2025-03-04T19:01:09.537868Z",
     "shell.execute_reply.started": "2025-03-04T19:01:09.533626Z"
    },
    "trusted": true
   },
   "outputs": [
    {
     "data": {
      "text/plain": [
       "'Bienes transferidos a otras misiones'"
      ]
     },
     "execution_count": 13,
     "metadata": {},
     "output_type": "execute_result"
    }
   ],
   "source": [
    "es_last = ess[-1]\n",
    "es_last"
   ]
  },
  {
   "cell_type": "code",
   "execution_count": 14,
   "metadata": {
    "execution": {
     "iopub.execute_input": "2025-03-04T19:01:09.540363Z",
     "iopub.status.busy": "2025-03-04T19:01:09.540091Z",
     "iopub.status.idle": "2025-03-04T19:01:09.557806Z",
     "shell.execute_reply": "2025-03-04T19:01:09.556647Z",
     "shell.execute_reply.started": "2025-03-04T19:01:09.540338Z"
    },
    "trusted": true
   },
   "outputs": [],
   "source": [
    "ess_train = random.choices(ess, k=train_count)"
   ]
  },
  {
   "cell_type": "code",
   "execution_count": 15,
   "metadata": {
    "execution": {
     "iopub.execute_input": "2025-03-04T19:01:09.558926Z",
     "iopub.status.busy": "2025-03-04T19:01:09.558686Z",
     "iopub.status.idle": "2025-03-04T19:01:10.183327Z",
     "shell.execute_reply": "2025-03-04T19:01:10.182508Z",
     "shell.execute_reply.started": "2025-03-04T19:01:09.558901Z"
    },
    "trusted": true
   },
   "outputs": [],
   "source": [
    "del ess"
   ]
  },
  {
   "cell_type": "code",
   "execution_count": 16,
   "metadata": {
    "execution": {
     "iopub.execute_input": "2025-03-04T19:01:10.184873Z",
     "iopub.status.busy": "2025-03-04T19:01:10.184621Z",
     "iopub.status.idle": "2025-03-04T19:01:10.203310Z",
     "shell.execute_reply": "2025-03-04T19:01:10.202125Z",
     "shell.execute_reply.started": "2025-03-04T19:01:10.184846Z"
    },
    "trusted": true
   },
   "outputs": [],
   "source": [
    "def preprocess_sentence(s: str, bos: str = \"<bos>\", eos: str = \"<eos>\") -> List[str]:\n",
    "    return [bos] + list(s.replace(\"  \", \" \")) + [eos]"
   ]
  },
  {
   "cell_type": "code",
   "execution_count": 17,
   "metadata": {
    "_kg_hide-output": true,
    "execution": {
     "iopub.execute_input": "2025-03-04T19:01:10.204820Z",
     "iopub.status.busy": "2025-03-04T19:01:10.204506Z",
     "iopub.status.idle": "2025-03-04T19:01:10.225606Z",
     "shell.execute_reply": "2025-03-04T19:01:10.224644Z",
     "shell.execute_reply.started": "2025-03-04T19:01:10.204795Z"
    },
    "scrolled": true,
    "trusted": true
   },
   "outputs": [
    {
     "data": {
      "text/plain": [
       "(['<bos>',\n",
       "  'P',\n",
       "  'r',\n",
       "  'o',\n",
       "  'p',\n",
       "  'e',\n",
       "  'r',\n",
       "  't',\n",
       "  'y',\n",
       "  ' ',\n",
       "  't',\n",
       "  'r',\n",
       "  'a',\n",
       "  'n',\n",
       "  's',\n",
       "  'f',\n",
       "  'e',\n",
       "  'r',\n",
       "  'r',\n",
       "  'e',\n",
       "  'd',\n",
       "  ' ',\n",
       "  't',\n",
       "  'o',\n",
       "  ' ',\n",
       "  'o',\n",
       "  't',\n",
       "  'h',\n",
       "  'e',\n",
       "  'r',\n",
       "  ' ',\n",
       "  'm',\n",
       "  'i',\n",
       "  's',\n",
       "  's',\n",
       "  'i',\n",
       "  'o',\n",
       "  'n',\n",
       "  's',\n",
       "  '<eos>'],\n",
       " ['<bos>',\n",
       "  'B',\n",
       "  'i',\n",
       "  'e',\n",
       "  'n',\n",
       "  'e',\n",
       "  's',\n",
       "  ' ',\n",
       "  't',\n",
       "  'r',\n",
       "  'a',\n",
       "  'n',\n",
       "  's',\n",
       "  'f',\n",
       "  'e',\n",
       "  'r',\n",
       "  'i',\n",
       "  'd',\n",
       "  'o',\n",
       "  's',\n",
       "  ' ',\n",
       "  'a',\n",
       "  ' ',\n",
       "  'o',\n",
       "  't',\n",
       "  'r',\n",
       "  'a',\n",
       "  's',\n",
       "  ' ',\n",
       "  'm',\n",
       "  'i',\n",
       "  's',\n",
       "  'i',\n",
       "  'o',\n",
       "  'n',\n",
       "  'e',\n",
       "  's',\n",
       "  '<eos>'])"
      ]
     },
     "execution_count": 17,
     "metadata": {},
     "output_type": "execute_result"
    }
   ],
   "source": [
    "preprocess_sentence(en_last), preprocess_sentence(es_last)"
   ]
  },
  {
   "cell_type": "code",
   "execution_count": 18,
   "metadata": {
    "execution": {
     "iopub.execute_input": "2025-03-04T19:01:10.226521Z",
     "iopub.status.busy": "2025-03-04T19:01:10.226315Z",
     "iopub.status.idle": "2025-03-04T19:01:10.244255Z",
     "shell.execute_reply": "2025-03-04T19:01:10.243369Z",
     "shell.execute_reply.started": "2025-03-04T19:01:10.226503Z"
    },
    "trusted": true
   },
   "outputs": [
    {
     "data": {
      "text/plain": [
       "(5598, 5598)"
      ]
     },
     "execution_count": 18,
     "metadata": {},
     "output_type": "execute_result"
    }
   ],
   "source": [
    "len(ens_train), len(ess_train)"
   ]
  },
  {
   "cell_type": "code",
   "execution_count": 19,
   "metadata": {
    "execution": {
     "iopub.execute_input": "2025-03-04T19:01:10.245448Z",
     "iopub.status.busy": "2025-03-04T19:01:10.245175Z",
     "iopub.status.idle": "2025-03-04T19:01:10.262009Z",
     "shell.execute_reply": "2025-03-04T19:01:10.261155Z",
     "shell.execute_reply.started": "2025-03-04T19:01:10.245426Z"
    },
    "trusted": true
   },
   "outputs": [],
   "source": [
    "dataset = ens_train + ess_train"
   ]
  },
  {
   "cell_type": "code",
   "execution_count": 20,
   "metadata": {
    "execution": {
     "iopub.execute_input": "2025-03-04T19:01:10.262955Z",
     "iopub.status.busy": "2025-03-04T19:01:10.262737Z",
     "iopub.status.idle": "2025-03-04T19:01:10.302709Z",
     "shell.execute_reply": "2025-03-04T19:01:10.301462Z",
     "shell.execute_reply.started": "2025-03-04T19:01:10.262935Z"
    },
    "trusted": true
   },
   "outputs": [],
   "source": [
    "del ens_train"
   ]
  },
  {
   "cell_type": "code",
   "execution_count": 21,
   "metadata": {
    "execution": {
     "iopub.execute_input": "2025-03-04T19:01:10.304140Z",
     "iopub.status.busy": "2025-03-04T19:01:10.303781Z",
     "iopub.status.idle": "2025-03-04T19:01:10.320680Z",
     "shell.execute_reply": "2025-03-04T19:01:10.319641Z",
     "shell.execute_reply.started": "2025-03-04T19:01:10.304106Z"
    },
    "trusted": true
   },
   "outputs": [],
   "source": [
    "del ess_train"
   ]
  },
  {
   "cell_type": "code",
   "execution_count": 22,
   "metadata": {
    "execution": {
     "iopub.execute_input": "2025-03-04T19:01:10.321642Z",
     "iopub.status.busy": "2025-03-04T19:01:10.321390Z",
     "iopub.status.idle": "2025-03-04T19:01:10.340160Z",
     "shell.execute_reply": "2025-03-04T19:01:10.339336Z",
     "shell.execute_reply.started": "2025-03-04T19:01:10.321622Z"
    },
    "trusted": true
   },
   "outputs": [
    {
     "data": {
      "text/plain": [
       "(11196,\n",
       " 'The Prisons Bill prohibits the use of solitary confinement except in the case of extremely violent offenders.',\n",
       " 'La evidencia de estas dificultades ha suscitado también la necesidad de trabajar en el futuro en el desarrollo de un sistema de información como el que se ha aludido en los párrafos 128 a 132.')"
      ]
     },
     "execution_count": 22,
     "metadata": {},
     "output_type": "execute_result"
    }
   ],
   "source": [
    "len(dataset), dataset[0], dataset[-1]"
   ]
  },
  {
   "cell_type": "code",
   "execution_count": 23,
   "metadata": {
    "execution": {
     "iopub.execute_input": "2025-03-04T19:01:10.343486Z",
     "iopub.status.busy": "2025-03-04T19:01:10.343208Z",
     "iopub.status.idle": "2025-03-04T19:01:10.356339Z",
     "shell.execute_reply": "2025-03-04T19:01:10.354817Z",
     "shell.execute_reply.started": "2025-03-04T19:01:10.343462Z"
    },
    "trusted": true
   },
   "outputs": [],
   "source": [
    "def preprocess_dataset(dataset: List[str]):\n",
    "    preprocessed_dataset = []\n",
    "    for s in dataset:\n",
    "        preprocessed_dataset.append(preprocess_sentence(s))\n",
    "    return preprocessed_dataset"
   ]
  },
  {
   "cell_type": "code",
   "execution_count": 24,
   "metadata": {
    "execution": {
     "iopub.execute_input": "2025-03-04T19:01:10.357753Z",
     "iopub.status.busy": "2025-03-04T19:01:10.357491Z",
     "iopub.status.idle": "2025-03-04T19:01:10.486627Z",
     "shell.execute_reply": "2025-03-04T19:01:10.485625Z",
     "shell.execute_reply.started": "2025-03-04T19:01:10.357724Z"
    },
    "trusted": true
   },
   "outputs": [],
   "source": [
    "preprocessed_dataset = preprocess_dataset(dataset)"
   ]
  },
  {
   "cell_type": "code",
   "execution_count": 25,
   "metadata": {
    "execution": {
     "iopub.execute_input": "2025-03-04T19:01:10.487846Z",
     "iopub.status.busy": "2025-03-04T19:01:10.487581Z",
     "iopub.status.idle": "2025-03-04T19:01:10.495434Z",
     "shell.execute_reply": "2025-03-04T19:01:10.494132Z",
     "shell.execute_reply.started": "2025-03-04T19:01:10.487821Z"
    },
    "scrolled": true,
    "trusted": true
   },
   "outputs": [],
   "source": [
    "def bpe_train(dataset: List[str], num_target_rules: int = 32_000):\n",
    "    vocab = set()\n",
    "    rules = []\n",
    "    \n",
    "    for d in tqdm(dataset, desc=\"create initial vocab\"):\n",
    "        vocab = vocab.union(set(d))\n",
    "    \n",
    "    for _ in tqdm(range(num_target_rules), desc=\"train\"):\n",
    "        bigram_counter = {}\n",
    "        for d in dataset:\n",
    "            # print(d)\n",
    "            for j in range(len(d)-1):\n",
    "                unite = tuple(d[j:j+2])\n",
    "                if unite in bigram_counter:\n",
    "                    bigram_counter[unite] += 1\n",
    "                else:\n",
    "                    bigram_counter[unite] = 1\n",
    "\n",
    "        mx_cnt = 0\n",
    "        target = ()\n",
    "        for unite, cnt in bigram_counter.items():\n",
    "            if cnt > mx_cnt:\n",
    "                mx_cnt = cnt\n",
    "                target = unite\n",
    "        # print(target_lst)\n",
    "\n",
    "        vocab.add(\"\".join(target))\n",
    "        rules.append(target)\n",
    "\n",
    "        # y = 0\n",
    "        for i in range(len(dataset)):\n",
    "            while True:\n",
    "                d = dataset[i]\n",
    "                left = -1\n",
    "                for j in range(len(d)-1):\n",
    "                    if d[j:j+2] == list(target):\n",
    "                        left = j\n",
    "                        break\n",
    "                if left >= 0:\n",
    "                    dataset[i] = d[:left] + [''.join(d[left:left+2])] + d[left+2:]\n",
    "                else:\n",
    "                    break\n",
    "            # y += len(dataset[i])\n",
    "        \n",
    "    return vocab, rules"
   ]
  },
  {
   "cell_type": "code",
   "execution_count": 26,
   "metadata": {
    "execution": {
     "iopub.execute_input": "2025-03-04T19:01:10.496850Z",
     "iopub.status.busy": "2025-03-04T19:01:10.496497Z",
     "iopub.status.idle": "2025-03-04T20:27:53.353195Z",
     "shell.execute_reply": "2025-03-04T20:27:53.351367Z",
     "shell.execute_reply.started": "2025-03-04T19:01:10.496820Z"
    },
    "trusted": true
   },
   "outputs": [
    {
     "name": "stderr",
     "output_type": "stream",
     "text": [
      "create initial vocab: 100%|██████████| 11196/11196 [00:00<00:00, 254544.72it/s]\n",
      "train: 100%|██████████| 10000/10000 [1:26:42<00:00,  1.92it/s]\n"
     ]
    }
   ],
   "source": [
    "vocab, rules = bpe_train(preprocessed_dataset, num_target_rules=10_000)"
   ]
  },
  {
   "cell_type": "code",
   "execution_count": 30,
   "metadata": {
    "execution": {
     "iopub.execute_input": "2025-03-04T20:28:00.474111Z",
     "iopub.status.busy": "2025-03-04T20:28:00.473770Z",
     "iopub.status.idle": "2025-03-04T20:28:00.480545Z",
     "shell.execute_reply": "2025-03-04T20:28:00.479018Z",
     "shell.execute_reply.started": "2025-03-04T20:28:00.474090Z"
    },
    "trusted": true
   },
   "outputs": [
    {
     "data": {
      "text/plain": [
       "[('e', ' '),\n",
       " ('s', ' '),\n",
       " ('n', ' '),\n",
       " ('a', ' '),\n",
       " ('o', ' '),\n",
       " ('e', 'r'),\n",
       " ('e', 'n'),\n",
       " ('o', 'n'),\n",
       " ('t', 'i'),\n",
       " ('c', 'i'),\n",
       " ('l', ' '),\n",
       " ('t', 'h'),\n",
       " ('r', 'e'),\n",
       " ('d', 'e '),\n",
       " ('a', 'r'),\n",
       " (',', ' '),\n",
       " ('a', 'n'),\n",
       " ('d', ' '),\n",
       " ('i', 'n'),\n",
       " ('o', 'r')]"
      ]
     },
     "execution_count": 30,
     "metadata": {},
     "output_type": "execute_result"
    }
   ],
   "source": [
    "rules[:20]"
   ]
  },
  {
   "cell_type": "code",
   "execution_count": 31,
   "metadata": {
    "execution": {
     "iopub.execute_input": "2025-03-04T20:28:18.856166Z",
     "iopub.status.busy": "2025-03-04T20:28:18.855764Z",
     "iopub.status.idle": "2025-03-04T20:28:18.861460Z",
     "shell.execute_reply": "2025-03-04T20:28:18.860399Z",
     "shell.execute_reply.started": "2025-03-04T20:28:18.856136Z"
    },
    "trusted": true
   },
   "outputs": [
    {
     "data": {
      "text/plain": [
       "(10000, 10146)"
      ]
     },
     "execution_count": 31,
     "metadata": {},
     "output_type": "execute_result"
    }
   ],
   "source": [
    "len(rules), len(vocab)"
   ]
  },
  {
   "cell_type": "code",
   "execution_count": 32,
   "metadata": {
    "execution": {
     "iopub.execute_input": "2025-03-04T20:28:19.707582Z",
     "iopub.status.busy": "2025-03-04T20:28:19.707248Z",
     "iopub.status.idle": "2025-03-04T20:28:19.716353Z",
     "shell.execute_reply": "2025-03-04T20:28:19.715178Z",
     "shell.execute_reply.started": "2025-03-04T20:28:19.707556Z"
    },
    "trusted": true
   },
   "outputs": [],
   "source": [
    "vocab_map = {e : i for i, e in enumerate(vocab)}"
   ]
  },
  {
   "cell_type": "code",
   "execution_count": 56,
   "metadata": {
    "execution": {
     "iopub.execute_input": "2025-03-04T20:47:39.020451Z",
     "iopub.status.busy": "2025-03-04T20:47:39.020084Z",
     "iopub.status.idle": "2025-03-04T20:47:39.044062Z",
     "shell.execute_reply": "2025-03-04T20:47:39.042935Z",
     "shell.execute_reply.started": "2025-03-04T20:47:39.020425Z"
    },
    "trusted": true
   },
   "outputs": [],
   "source": [
    "with open(\"bpe-en-es-10k-vocab.json\", \"w\", encoding=\"utf-8\") as f:\n",
    "    json.dump(vocab_map, f, ensure_ascii=False)"
   ]
  },
  {
   "cell_type": "code",
   "execution_count": 51,
   "metadata": {
    "execution": {
     "iopub.execute_input": "2025-03-04T20:35:13.055350Z",
     "iopub.status.busy": "2025-03-04T20:35:13.054944Z",
     "iopub.status.idle": "2025-03-04T20:35:13.073462Z",
     "shell.execute_reply": "2025-03-04T20:35:13.072564Z",
     "shell.execute_reply.started": "2025-03-04T20:35:13.055315Z"
    },
    "trusted": true
   },
   "outputs": [],
   "source": [
    "with open(\"bpe-en-es-10k-rules.txt\", \"w\", encoding=\"utf-8\") as f:\n",
    "    for rule in rules:\n",
    "        f.write(f\"{vocab_map[rule[0]]} {vocab_map[rule[1]]}\\n\")"
   ]
  },
  {
   "cell_type": "code",
   "execution_count": 41,
   "metadata": {
    "execution": {
     "iopub.execute_input": "2025-03-04T20:29:41.539697Z",
     "iopub.status.busy": "2025-03-04T20:29:41.539336Z",
     "iopub.status.idle": "2025-03-04T20:29:41.549812Z",
     "shell.execute_reply": "2025-03-04T20:29:41.545424Z",
     "shell.execute_reply.started": "2025-03-04T20:29:41.539659Z"
    },
    "trusted": true
   },
   "outputs": [
    {
     "data": {
      "text/plain": [
       "[('<bos>L', 'os '),\n",
       " ('al', 'es, '),\n",
       " ('el', 'y '),\n",
       " ('particul', 'ar '),\n",
       " ('200', '1'),\n",
       " ('ed ', 'by '),\n",
       " ('ad', 'ministr'),\n",
       " ('Or', 'ganiz'),\n",
       " ('us', 't '),\n",
       " ('e ', 'of the ')]"
      ]
     },
     "execution_count": 41,
     "metadata": {},
     "output_type": "execute_result"
    }
   ],
   "source": [
    "rules[1000:1010]"
   ]
  },
  {
   "cell_type": "code",
   "execution_count": 42,
   "metadata": {
    "execution": {
     "iopub.execute_input": "2025-03-04T20:29:56.725595Z",
     "iopub.status.busy": "2025-03-04T20:29:56.724579Z",
     "iopub.status.idle": "2025-03-04T20:29:56.734744Z",
     "shell.execute_reply": "2025-03-04T20:29:56.732524Z",
     "shell.execute_reply.started": "2025-03-04T20:29:56.725510Z"
    },
    "trusted": true
   },
   "outputs": [
    {
     "data": {
      "text/plain": [
       "[['<bos>The ',\n",
       "  'Pri',\n",
       "  'sons ',\n",
       "  'B',\n",
       "  'ill ',\n",
       "  'prohib',\n",
       "  'its ',\n",
       "  'the ',\n",
       "  'use of ',\n",
       "  'sol',\n",
       "  'it',\n",
       "  'ary ',\n",
       "  'con',\n",
       "  'fin',\n",
       "  'ement ',\n",
       "  'excep',\n",
       "  't ',\n",
       "  'in the ',\n",
       "  'case of ',\n",
       "  'extrem',\n",
       "  'ely ',\n",
       "  'viol',\n",
       "  'ent ',\n",
       "  'off',\n",
       "  'ender',\n",
       "  's.<eos>']]"
      ]
     },
     "execution_count": 42,
     "metadata": {},
     "output_type": "execute_result"
    }
   ],
   "source": [
    "preprocessed_dataset[:1]"
   ]
  },
  {
   "cell_type": "code",
   "execution_count": 43,
   "metadata": {
    "execution": {
     "iopub.execute_input": "2025-03-04T20:29:58.963495Z",
     "iopub.status.busy": "2025-03-04T20:29:58.962045Z",
     "iopub.status.idle": "2025-03-04T20:29:58.973068Z",
     "shell.execute_reply": "2025-03-04T20:29:58.970139Z",
     "shell.execute_reply.started": "2025-03-04T20:29:58.963433Z"
    },
    "trusted": true
   },
   "outputs": [],
   "source": [
    "def apply_bpe_rules(dataset, rules, preprocessed=False):\n",
    "    if not preprocessed:\n",
    "        p_dataset = preprocess_dataset(dataset)\n",
    "    else:\n",
    "        p_dataset = dataset.copy()\n",
    "\n",
    "    for rule in rules:\n",
    "        for i in range(len(p_dataset)):\n",
    "            while True:\n",
    "                d = p_dataset[i]\n",
    "                left = -1\n",
    "                for j in range(len(d)-1):\n",
    "                    if d[j:j+2] == list(rule):\n",
    "                        left = j\n",
    "                        break\n",
    "                if left >= 0:\n",
    "                    p_dataset[i] = d[:left] + [''.join(d[left:left+2])] + d[left+2:]\n",
    "                else:\n",
    "                    break\n",
    "    return p_dataset"
   ]
  },
  {
   "cell_type": "code",
   "execution_count": 44,
   "metadata": {
    "execution": {
     "iopub.execute_input": "2025-03-04T20:30:01.261463Z",
     "iopub.status.busy": "2025-03-04T20:30:01.261083Z",
     "iopub.status.idle": "2025-03-04T20:30:01.362325Z",
     "shell.execute_reply": "2025-03-04T20:30:01.360505Z",
     "shell.execute_reply.started": "2025-03-04T20:30:01.261432Z"
    },
    "trusted": true
   },
   "outputs": [],
   "source": [
    "test_dataset = [\n",
    "    \"Hello, where are you?\",\n",
    "    \"Is this making any kind of sense?\",\n",
    "    \"This is an imaginary situation.\",\n",
    "    \"It is such a shame!\"\n",
    "]\n",
    "\n",
    "pretokenized_test_dataset = apply_bpe_rules(test_dataset, rules)"
   ]
  },
  {
   "cell_type": "code",
   "execution_count": 45,
   "metadata": {
    "execution": {
     "iopub.execute_input": "2025-03-04T20:30:03.045215Z",
     "iopub.status.busy": "2025-03-04T20:30:03.044706Z",
     "iopub.status.idle": "2025-03-04T20:30:03.054363Z",
     "shell.execute_reply": "2025-03-04T20:30:03.052332Z",
     "shell.execute_reply.started": "2025-03-04T20:30:03.045172Z"
    },
    "trusted": true
   },
   "outputs": [
    {
     "data": {
      "text/plain": [
       "[['<bos>H', 'ello, ', 'where ', 'are ', 'you', '?<eos>'],\n",
       " ['<bos>I',\n",
       "  's ',\n",
       "  'this ',\n",
       "  'making ',\n",
       "  'any ',\n",
       "  'kind ',\n",
       "  'of ',\n",
       "  'sen',\n",
       "  'se',\n",
       "  '?<eos>'],\n",
       " ['<bos>This ', 'is ', 'an ', 'im', 'ag', 'in', 'ary ', 'situ', 'ation.<eos>'],\n",
       " ['<bos>It is ', 'such a ', 'sh', 'ame', '!', '<eos>']]"
      ]
     },
     "execution_count": 45,
     "metadata": {},
     "output_type": "execute_result"
    }
   ],
   "source": [
    "pretokenized_test_dataset"
   ]
  },
  {
   "cell_type": "code",
   "execution_count": 46,
   "metadata": {
    "execution": {
     "iopub.execute_input": "2025-03-04T20:30:16.522064Z",
     "iopub.status.busy": "2025-03-04T20:30:16.521644Z",
     "iopub.status.idle": "2025-03-04T20:30:16.532202Z",
     "shell.execute_reply": "2025-03-04T20:30:16.529121Z",
     "shell.execute_reply.started": "2025-03-04T20:30:16.522029Z"
    },
    "trusted": true
   },
   "outputs": [],
   "source": [
    "def tokenize_dataset(pre_tokenized_dataset, vocab):\n",
    "    tokenized_dataset = []\n",
    "    for d in pre_tokenized_dataset:\n",
    "        tokenized_dataset.append(list(map(lambda tok: vocab[tok], d)))\n",
    "    return tokenized_dataset"
   ]
  },
  {
   "cell_type": "code",
   "execution_count": 47,
   "metadata": {
    "execution": {
     "iopub.execute_input": "2025-03-04T20:30:17.930794Z",
     "iopub.status.busy": "2025-03-04T20:30:17.930449Z",
     "iopub.status.idle": "2025-03-04T20:30:17.935915Z",
     "shell.execute_reply": "2025-03-04T20:30:17.934542Z",
     "shell.execute_reply.started": "2025-03-04T20:30:17.930768Z"
    },
    "trusted": true
   },
   "outputs": [],
   "source": [
    "tokenized_test_dataset = tokenize_dataset(pretokenized_test_dataset, vocab_map)"
   ]
  },
  {
   "cell_type": "code",
   "execution_count": 48,
   "metadata": {
    "execution": {
     "iopub.execute_input": "2025-03-04T20:30:18.457765Z",
     "iopub.status.busy": "2025-03-04T20:30:18.457421Z",
     "iopub.status.idle": "2025-03-04T20:30:18.466350Z",
     "shell.execute_reply": "2025-03-04T20:30:18.463469Z",
     "shell.execute_reply.started": "2025-03-04T20:30:18.457738Z"
    },
    "trusted": true
   },
   "outputs": [
    {
     "data": {
      "text/plain": [
       "[[1254, 6565, 9845, 2964, 4346, 8849],\n",
       " [778, 4361, 3566, 2480, 1117, 8484, 8486, 4812, 2261, 8849],\n",
       " [7087, 3229, 7356, 2436, 4518, 3418, 2469, 6545, 7484],\n",
       " [2727, 7110, 9944, 10043, 7236, 3324]]"
      ]
     },
     "execution_count": 48,
     "metadata": {},
     "output_type": "execute_result"
    }
   ],
   "source": [
    "tokenized_test_dataset"
   ]
  },
  {
   "cell_type": "code",
   "execution_count": null,
   "metadata": {
    "trusted": true
   },
   "outputs": [],
   "source": []
  }
 ],
 "metadata": {
  "kaggle": {
   "accelerator": "none",
   "dataSources": [],
   "dockerImageVersionId": 30918,
   "isGpuEnabled": false,
   "isInternetEnabled": true,
   "language": "python",
   "sourceType": "notebook"
  },
  "kernelspec": {
   "display_name": "fai",
   "language": "python",
   "name": "python3"
  },
  "language_info": {
   "codemirror_mode": {
    "name": "ipython",
    "version": 3
   },
   "file_extension": ".py",
   "mimetype": "text/x-python",
   "name": "python",
   "nbconvert_exporter": "python",
   "pygments_lexer": "ipython3",
   "version": "3.11.8"
  }
 },
 "nbformat": 4,
 "nbformat_minor": 4
}
